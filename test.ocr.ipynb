{
 "cells": [
  {
   "cell_type": "code",
   "execution_count": null,
   "id": "533858ac",
   "metadata": {},
   "outputs": [],
   "source": [
    "import pytesseract\n",
    "from pdf2image import convert_from_path\n",
    "from PIL import Image\n",
    "import cv2\n",
    "import numpy as np\n",
    "import os\n",
    "import json"
   ]
  },
  {
   "cell_type": "code",
   "execution_count": null,
   "id": "e3e88cd6",
   "metadata": {},
   "outputs": [],
   "source": [
    "# Percorsi input/output\n",
    "PDF_PATH = \"file.pfd\"\n",
    "OUTPUT_JSON = \"output_spese.json\"\n",
    "\n",
    "def preprocess_image(image: Image.Image) -> Image.Image:\n",
    "    # Converti PIL Image in OpenCV image per miglioramento\n",
    "    cv_image = cv2.cvtColor(np.array(image), cv2.COLOR_RGB2BGR)\n",
    "    gray = cv2.cvtColor(cv_image, cv2.COLOR_BGR2GRAY)\n",
    "    _, thresh = cv2.threshold(gray, 150, 255, cv2.THRESH_BINARY)\n",
    "    return Image.fromarray(thresh)\n",
    "\n",
    "def extract_text_from_pdf(pdf_path: str):\n",
    "    print(f\"Converto il PDF in immagini: {pdf_path}\")\n",
    "    images = convert_from_path(pdf_path)\n",
    "    full_text = \"\"\n",
    "\n",
    "    for i, image in enumerate(images):\n",
    "        print(f\"Processo pagina {i + 1}\")\n",
    "        # Preprocessing base (facoltativo)\n",
    "        processed_image = preprocess_image(image)\n",
    "\n",
    "        text = pytesseract.image_to_string(processed_image, lang=\"ita+eng\")\n",
    "        full_text += f\"--- Pagina {i + 1} ---\\n{text}\\n\"\n",
    "\n",
    "    return full_text\n",
    "\n",
    "def parse_transactions(raw_text: str):\n",
    "    # Funzione di parsing *molto basilare* da personalizzare secondo il formato dei tuoi estratti conto\n",
    "    transactions = []\n",
    "    lines = raw_text.split(\"\\n\")\n",
    "    for line in lines:\n",
    "        if any(char.isdigit() for char in line) and \"€\" in line:\n",
    "            transactions.append({\"riga\": line.strip()})\n",
    "    return transactions\n"
   ]
  },
  {
   "cell_type": "code",
   "execution_count": null,
   "id": "51f80b0a",
   "metadata": {},
   "outputs": [],
   "source": [
    "#def main():\n",
    "    #raw_text = extract_text_from_pdf(PDF_PATH)\n",
    "    #transactions = parse_transactions(raw_text)\n",
    "\n",
    "    #print(f\"Scrivo {len(transactions)} transazioni in {OUTPUT_JSON}\")\n",
    "    #with open(OUTPUT_JSON, \"w\", encoding=\"utf-8\") as f:\n",
    "    #    json.dump(transactions, f, indent=2, ensure_ascii=False)"
   ]
  },
  {
   "cell_type": "code",
   "execution_count": null,
   "id": "0eeeff55",
   "metadata": {},
   "outputs": [],
   "source": [
    "import pdfplumber"
   ]
  },
  {
   "cell_type": "code",
   "execution_count": null,
   "id": "8f45411b",
   "metadata": {},
   "outputs": [],
   "source": [
    "# Apri il file PDF\n",
    "with pdfplumber.open(PDF_PATH) as pdf:\n",
    "    # Itera su ogni pagina\n",
    "    for pagina in pdf.pages:\n",
    "        # Estrai il testo dalla pagina\n",
    "        testo = pagina.extract_text()\n",
    "        print(\"Testo pagina:\\n\", testo)\n",
    "        \n",
    "        # Prova a estrarre tabelle dalla pagina\n",
    "        tabelle = pagina.extract_tables()\n",
    "        for i, tabella in enumerate(tabelle):\n",
    "            print(f\"\\nTabella {i+1}:\")\n",
    "            for riga in tabella:\n",
    "                print(riga)\n"
   ]
  }
 ],
 "metadata": {
  "kernelspec": {
   "display_name": ".env",
   "language": "python",
   "name": "python3"
  },
  "language_info": {
   "codemirror_mode": {
    "name": "ipython",
    "version": 3
   },
   "file_extension": ".py",
   "mimetype": "text/x-python",
   "name": "python",
   "nbconvert_exporter": "python",
   "pygments_lexer": "ipython3",
   "version": "3.13.5"
  }
 },
 "nbformat": 4,
 "nbformat_minor": 5
}