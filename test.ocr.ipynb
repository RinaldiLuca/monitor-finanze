{
 "cells": [
  {
   "cell_type": "code",
   "execution_count": null,
   "id": "0",
   "metadata": {},
   "outputs": [],
   "source": [
    "import pytesseract\n",
    "from pdf2image import convert_from_path\n",
    "from PIL import Image\n",
    "import cv2\n",
    "import numpy as np\n",
    "import os\n",
    "import json"
   ]
  },
  {
   "cell_type": "code",
   "execution_count": null,
   "id": "1",
   "metadata": {},
   "outputs": [],
   "source": [
    "# Percorsi input/output\n",
    "PDF_PATH = \"Informativa_Riepilogativa_dei_Servizi_di_Pagamento_30giu2025.pdf\"\n",
    "OUTPUT_JSON = \"output_spese.json\""
   ]
  },
  {
   "cell_type": "code",
   "execution_count": null,
   "id": "2",
   "metadata": {},
   "outputs": [],
   "source": [
    "# Percorsi input/output\n",
    "PDF_PATH = \"file.pfd\"\n",
    "OUTPUT_JSON = \"output_spese.json\"\n",
    "\n",
    "def preprocess_image(image: Image.Image) -> Image.Image:\n",
    "    # Converti PIL Image in OpenCV image per miglioramento\n",
    "    cv_image = cv2.cvtColor(np.array(image), cv2.COLOR_RGB2BGR)\n",
    "    gray = cv2.cvtColor(cv_image, cv2.COLOR_BGR2GRAY)\n",
    "    _, thresh = cv2.threshold(gray, 150, 255, cv2.THRESH_BINARY)\n",
    "    return Image.fromarray(thresh)\n",
    "\n",
    "def extract_text_from_pdf(pdf_path: str):\n",
    "    print(f\"Converto il PDF in immagini: {pdf_path}\")\n",
    "    images = convert_from_path(pdf_path)\n",
    "    full_text = \"\"\n",
    "\n",
    "    for i, image in enumerate(images):\n",
    "        print(f\"Processo pagina {i + 1}\")\n",
    "        # Preprocessing base (facoltativo)\n",
    "        processed_image = preprocess_image(image)\n",
    "\n",
    "        text = pytesseract.image_to_string(processed_image, lang=\"ita+eng\")\n",
    "        full_text += f\"--- Pagina {i + 1} ---\\n{text}\\n\"\n",
    "\n",
    "    return full_text\n",
    "\n",
    "def parse_transactions(raw_text: str):\n",
    "    # Funzione di parsing *molto basilare* da personalizzare secondo il formato dei tuoi estratti conto\n",
    "    transactions = []\n",
    "    lines = raw_text.split(\"\\n\")\n",
    "    for line in lines:\n",
    "        if any(char.isdigit() for char in line) and \"€\" in line:\n",
    "            transactions.append({\"riga\": line.strip()})\n",
    "    return transactions\n"
   ]
  },
  {
   "cell_type": "code",
   "execution_count": null,
   "id": "3",
   "metadata": {},
   "outputs": [],
   "source": [
    "#def main():\n",
    "    #raw_text = extract_text_from_pdf(PDF_PATH)\n",
    "    #transactions = parse_transactions(raw_text)\n",
    "\n",
    "    #print(f\"Scrivo {len(transactions)} transazioni in {OUTPUT_JSON}\")\n",
    "    #with open(OUTPUT_JSON, \"w\", encoding=\"utf-8\") as f:\n",
    "    #    json.dump(transactions, f, indent=2, ensure_ascii=False)"
   ]
  },
  {
   "cell_type": "code",
   "execution_count": null,
   "id": "4",
   "metadata": {},
   "outputs": [],
   "source": [
    "import pdfplumber\n",
    "import pandas as pd"
   ]
  },
  {
   "cell_type": "code",
   "execution_count": null,
   "id": "5",
   "metadata": {},
   "outputs": [],
   "source": [
    "# Apri il file PDF\n",
    "with pdfplumber.open(PDF_PATH) as pdf:\n",
    "    # Itera su ogni pagina\n",
    "    testi = []\n",
    "    tabelle = []\n",
    "    for pagina in pdf.pages:\n",
    "        # Estrai il testo dalla pagina\n",
    "        testi.append(pagina.extract_text()) \n",
    "        \n",
    "        # Prova a estrarre tabelle dalla pagina\n",
    "        tabs = pagina.extract_table({\n",
    "            \"vertical_strategy\": \"lines\",         # oppure \"text\"\n",
    "            \"horizontal_strategy\": \"lines\",       # oppure \"text\"\n",
    "            \"intersection_tolerance\": 5,          # aumenta se le linee non si incrociano perfettamente\n",
    "            \"snap_tolerance\": 3,                  # tolleranza per 'agganciare' le linee ai testi\n",
    "            \"join_x_tolerance\": 2,                # unisce linee verticali vicine\n",
    "            \"join_y_tolerance\": 2,                # unisce linee orizzontali vicine\n",
    "            \"edge_min_length\": 3,                 # ignora linee troppo corte\n",
    "        })\n",
    "        intestazione = tabs[0][0]\n",
    "        for i, tabs in enumerate(tabs):\n",
    "            print(f\"\\nTabella {i+1}:\")\n",
    "            tabelle.extend(tabs[1:])\n"
   ]
  },
  {
   "cell_type": "code",
   "execution_count": null,
   "id": "6",
   "metadata": {},
   "outputs": [],
   "source": [
    "for ii, testo in enumerate(testi):\n",
    "    print(f'=============== Testo {ii+1:02d} ===============')\n",
    "    print(testo)"
   ]
  },
  {
   "cell_type": "code",
   "execution_count": null,
   "id": "7",
   "metadata": {},
   "outputs": [],
   "source": [
    "trx_df = pd.DataFrame(tabelle,columns=intestazione)"
   ]
  },
  {
   "cell_type": "code",
   "execution_count": null,
   "id": "8",
   "metadata": {},
   "outputs": [],
   "source": [
    "trx_df"
   ]
  },
  {
   "cell_type": "code",
   "execution_count": null,
   "id": "9",
   "metadata": {},
   "outputs": [],
   "source": [
    "import pdfplumber.table\n",
    "\n",
    "\n",
    "with pdfplumber.open(PDF_PATH) as pdf:\n",
    "    page = pdf.pages[1]\n",
    "    tab = page.extract_tables()[0]\n",
    "    # Crea un oggetto immagine della pagina\n",
    "    im = page.to_image(resolution=150)\n",
    "\n",
    "    # Disegna le linee rilevate nella pagina\n",
    "    #im.draw_lines(page.lines, stroke=\"red\")\n",
    "    im.debug_tablefinder({\n",
    "            \"vertical_strategy\": \"lines\",         # oppure \"text\"\n",
    "            \"horizontal_strategy\": \"lines\",       # oppure \"text\"\n",
    "            \"explicit_vertical_lines\": [page.width*0.05, page.width*0.95],\n",
    "            #\"explicit_horizontal_lines\": [20, 800]\n",
    "            #\"intersection_tolerance\": 20,          # aumenta se le linee non si incrociano perfettamente\n",
    "            \"snap_x_tolerance\": 9,                  # tolleranza per 'agganciare' le linee ai testi\n",
    "            #\"join_x_tolerance\": 20,                # unisce linee verticali vicine\n",
    "            #\"join_y_tolerance\": 2,                # unisce linee orizzontali vicine\n",
    "            #\"edge_min_length\": 1,                 # ignora linee troppo corte\n",
    "        })\n",
    "\n",
    "\n",
    "    # Salva il risultato in un'immagine PNG\n",
    "    #im.save(\"debug_tabella.png\")\n",
    "    "
   ]
  },
  {
   "cell_type": "code",
   "execution_count": null,
   "id": "10",
   "metadata": {},
   "outputs": [],
   "source": [
    "im\n"
   ]
  },
  {
   "cell_type": "code",
   "execution_count": null,
   "id": "11",
   "metadata": {},
   "outputs": [],
   "source": [
    "pd.DataFrame(columns=['a'])."
   ]
  },
  {
   "cell_type": "code",
   "execution_count": null,
   "id": "12",
   "metadata": {},
   "outputs": [],
   "source": [
    "import pandas as pd\n",
    "import pdfplumber"
   ]
  },
  {
   "cell_type": "code",
   "execution_count": null,
   "id": "13",
   "metadata": {},
   "outputs": [],
   "source": [
    "trx_df = pd.DataFrame()\n",
    "with pdfplumber.open(PDF_PATH) as pdf:\n",
    "    for page in pdf.pages:\n",
    "        tables = page.extract_tables({\n",
    "            \"vertical_strategy\": \"lines\",         # oppure \"text\"\n",
    "            \"horizontal_strategy\": \"lines\",       # oppure \"text\"\n",
    "            \"explicit_vertical_lines\": [page.width*0.05, page.width*0.95],\n",
    "            \"snap_x_tolerance\": 9,                  # tolleranza per 'agganciare' le linee ai testi\n",
    "        })\n",
    "        for tab in tables:\n",
    "            trx_df = pd.concat([trx_df, pd.DataFrame(tab[1:], columns=tab[0]).dropna(thresh=2)], ignore_index=True)"
   ]
  },
  {
   "cell_type": "code",
   "execution_count": null,
   "id": "14",
   "metadata": {},
   "outputs": [],
   "source": [
    "trx_df.columns"
   ]
  },
  {
   "cell_type": "code",
   "execution_count": null,
   "id": "15",
   "metadata": {},
   "outputs": [],
   "source": [
    "description_col = 'DESCRIZIONE OPERAZIONE'"
   ]
  },
  {
   "cell_type": "code",
   "execution_count": null,
   "id": "16",
   "metadata": {},
   "outputs": [],
   "source": [
    "if trx_df.iloc[-1][description_col] == 'TOTALE':\n",
    "    trx_df = trx_df.iloc[:-1]\n",
    "#trx_df.dropna(thresh=2)"
   ]
  },
  {
   "cell_type": "code",
   "execution_count": null,
   "id": "17",
   "metadata": {},
   "outputs": [],
   "source": [
    "trx_df.loc[16][description_col]"
   ]
  },
  {
   "cell_type": "code",
   "execution_count": null,
   "id": "18",
   "metadata": {},
   "outputs": [],
   "source": []
  },
  {
   "cell_type": "code",
   "execution_count": null,
   "id": "19",
   "metadata": {},
   "outputs": [],
   "source": [
    "import pdfplumber\n",
    "from datetime import datetime\n",
    "from data_models.transaction import OcrTransactionRaw"
   ]
  },
  {
   "cell_type": "code",
   "execution_count": null,
   "id": "20",
   "metadata": {},
   "outputs": [],
   "source": [
    "\n",
    "def ReadDigitalPdf(file_path):\n",
    "\n",
    "    ocr_transactions = []\n",
    "\n",
    "    with pdfplumber.open(file_path) as pdf:\n",
    "        for page in pdf.pages:\n",
    "            tables = page.extract_tables({\n",
    "                \"vertical_strategy\": \"lines\",\n",
    "                \"horizontal_strategy\": \"lines\",\n",
    "                \"explicit_vertical_lines\": [page.width * 0.05, page.width * 0.95],\n",
    "                \"snap_x_tolerance\": 9,\n",
    "            })\n",
    "            for tab in tables:\n",
    "                for row_idx, row in enumerate(tab, start=1):\n",
    "                    #if row.count(None) + row.count('') >= len(row) - 2 or isinstance(row[1][0], ):\n",
    "                    #    continue  # ignora righe quasi vuote\n",
    "\n",
    "                    #row_dict = dict(zip(headers, row))\n",
    "                    print(row)\n",
    "                    \n",
    "                    try:\n",
    "                        # for amt in (row[3], row[4]):\n",
    "                        #     if (amt is not None) and (amt != ''):\n",
    "                        #         if ',' in amt:\n",
    "                        #             amt = amt.replace(\".\", \"\").replace(\",\", \".\")\n",
    "                        #         amount += c*float(amt)\n",
    "                        #     c *= -1\n",
    "                        tx = OcrTransactionRaw(\n",
    "                            filename=file_path,\n",
    "                            row=row_idx,\n",
    "                            booking_dt=row[0],#datetime.strptime(row[0], \"%d/%m/%Y\").date() if row[2] else None,\n",
    "                            value_dt=row[1],#datetime.strptime(row[1], \"%d/%m/%Y\").date(),\n",
    "                            amount=row[4],\n",
    "                            negative_amount= row[3],\n",
    "                            description=row[2],\n",
    "                        )\n",
    "                        ocr_transactions.append(tx)\n",
    "                    except Exception as e:\n",
    "                        print(f\"Errore nel parsing della riga {row_idx}: {e}\")\n",
    "    return ocr_transactions"
   ]
  },
  {
   "cell_type": "code",
   "execution_count": null,
   "id": "21",
   "metadata": {},
   "outputs": [],
   "source": [
    "from data_ingestion import ocr"
   ]
  },
  {
   "cell_type": "code",
   "execution_count": null,
   "id": "22",
   "metadata": {},
   "outputs": [],
   "source": [
    "# Dovrei spostare il doppio importo dentro la classe rawocr?\n",
    "PDF_PATH = \"Informativa_Riepilogativa_dei_Servizi_di_Pagamento_30giu2025.pdf\"\n",
    "\n",
    "trxs = ocr.ReadDigitalPdf(PDF_PATH)"
   ]
  },
  {
   "cell_type": "code",
   "execution_count": null,
   "id": "23",
   "metadata": {},
   "outputs": [],
   "source": [
    "trxs"
   ]
  }
 ],
 "metadata": {
  "kernelspec": {
   "display_name": ".env",
   "language": "python",
   "name": "python3"
  },
  "language_info": {
   "codemirror_mode": {
    "name": "ipython",
    "version": 3
   },
   "file_extension": ".py",
   "mimetype": "text/x-python",
   "name": "python",
   "nbconvert_exporter": "python",
   "pygments_lexer": "ipython3",
   "version": "3.13.5"
  }
 },
 "nbformat": 4,
 "nbformat_minor": 5
}
