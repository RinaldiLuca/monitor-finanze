{
 "cells": [
  {
   "cell_type": "code",
   "execution_count": null,
   "id": "0",
   "metadata": {},
   "outputs": [],
   "source": [
    "import asyncio\n",
    "from database.base import engine, AsyncSessionLocal\n",
    "from database.models import Base, Transaction\n",
    "from sqlalchemy import select\n",
    "from datetime import date\n",
    "\n",
    "async def init_db():\n",
    "    async with engine.begin() as conn:\n",
    "        await conn.run_sync(Base.metadata.drop_all)\n",
    "        await conn.run_sync(Base.metadata.create_all)\n",
    "\n",
    "async def add_sample_transaction():\n",
    "    async with AsyncSessionLocal() as session:\n",
    "        tx = Transaction(\n",
    "            external_id = 'prova_id',\n",
    "            operation_date = date.fromisoformat('2025-08-01'),\n",
    "            value_date = date.fromisoformat('2025-08-01'),\n",
    "            amount = -251,\n",
    "            description = 'test',\n",
    "            category = None,\n",
    "            account = 'bank_123',\n",
    "        )\n",
    "        session.add(tx)\n",
    "        await session.commit()\n",
    "\n",
    "async def fetch_transactions():\n",
    "    async with AsyncSessionLocal() as session:\n",
    "        result = await session.execute(select(Transaction))\n",
    "        return result.scalars().all()\n",
    "\n",
    "# Wrapper per eseguire da Jupyter\n",
    "async def main():\n",
    "    await init_db()\n",
    "    await add_sample_transaction()\n",
    "    txs = await fetch_transactions()\n",
    "    for tx in txs:\n",
    "        print(tx.id, tx.description, tx.amount)\n",
    "\n",
    "await main()\n"
   ]
  },
  {
   "cell_type": "code",
   "execution_count": null,
   "id": "1",
   "metadata": {},
   "outputs": [],
   "source": [
    "#await init_db()\n",
    "#await add_sample_transaction()\n",
    "txs = await fetch_transactions()\n",
    "for tx in txs:\n",
    "    print(tx.id, tx.description, tx.amount)"
   ]
  },
  {
   "cell_type": "code",
   "execution_count": null,
   "id": "2",
   "metadata": {},
   "outputs": [],
   "source": []
  }
 ],
 "metadata": {
  "kernelspec": {
   "display_name": ".env",
   "language": "python",
   "name": "python3"
  },
  "language_info": {
   "codemirror_mode": {
    "name": "ipython",
    "version": 3
   },
   "file_extension": ".py",
   "mimetype": "text/x-python",
   "name": "python",
   "nbconvert_exporter": "python",
   "pygments_lexer": "ipython3",
   "version": "3.13.5"
  }
 },
 "nbformat": 4,
 "nbformat_minor": 5
}
