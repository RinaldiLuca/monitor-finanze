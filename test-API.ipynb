{
 "cells": [
  {
   "cell_type": "code",
   "execution_count": null,
   "id": "303eacf0",
   "metadata": {},
   "outputs": [],
   "source": [
    "import requests\n",
    "import json"
   ]
  },
  {
   "cell_type": "code",
   "execution_count": null,
   "id": "4d1f3722",
   "metadata": {},
   "outputs": [],
   "source": [
    "url = \"https://bankaccountdata.gocardless.com/api/v2/token/new/\"\n",
    "headers = {\n",
    "    \"accept\": \"application/json\",\n",
    "    \"Content-Type\": \"application/json\"\n",
    "}\n",
    "with open('keys.json', 'rb') as f:\n",
    "    data = json.load(f)"
   ]
  },
  {
   "cell_type": "code",
   "execution_count": null,
   "id": "68efed8e",
   "metadata": {},
   "outputs": [],
   "source": [
    "data"
   ]
  },
  {
   "cell_type": "code",
   "execution_count": null,
   "id": "8edd05bc",
   "metadata": {},
   "outputs": [],
   "source": [
    "response = requests.post(url, headers=headers, data=json.dumps(data))\n",
    "\n",
    "# Stampa il risultato\n",
    "print(response.status_code)\n",
    "print(response.json())  # mostra il token se la richiesta ha successo"
   ]
  },
  {
   "cell_type": "code",
   "execution_count": null,
   "id": "6978a0e1",
   "metadata": {},
   "outputs": [],
   "source": [
    "ACCESS_TOKEN = response.json()[\"access\"]"
   ]
  },
  {
   "cell_type": "code",
   "execution_count": null,
   "id": "cd7d677b",
   "metadata": {},
   "outputs": [],
   "source": [
    "url = \"https://bankaccountdata.gocardless.com/api/v2/institutions/\"\n",
    "headers = {\n",
    "    \"accept\": \"application/json\",\n",
    "    \"Authorization\": f\"Bearer {ACCESS_TOKEN}\"  # <-- sostituisci con il token reale\n",
    "}\n",
    "params = {\n",
    "    \"country\": \"it\"\n",
    "}\n",
    "\n",
    "response = requests.get(url, headers=headers, params=params)\n",
    "\n",
    "# Stampa la risposta\n",
    "print(response.status_code)\n",
    "print(response.json())  # mostra la lista delle istituzioni"
   ]
  },
  {
   "cell_type": "code",
   "execution_count": null,
   "id": "c8ed1b9d",
   "metadata": {},
   "outputs": [],
   "source": [
    "institutions = response.json()"
   ]
  },
  {
   "cell_type": "code",
   "execution_count": null,
   "id": "f9908113",
   "metadata": {},
   "outputs": [],
   "source": [
    "for inst in institutions:\n",
    "    print(inst['name'])"
   ]
  },
  {
   "cell_type": "code",
   "execution_count": null,
   "id": "68451db0",
   "metadata": {},
   "outputs": [],
   "source": [
    "my_bank = [ii for ii in institutions if ii['name'] == 'CREDEM Retail'][0]"
   ]
  },
  {
   "cell_type": "code",
   "execution_count": null,
   "id": "8d43ce0b",
   "metadata": {},
   "outputs": [],
   "source": [
    "my_bank"
   ]
  },
  {
   "cell_type": "code",
   "execution_count": null,
   "id": "ed026686",
   "metadata": {},
   "outputs": [],
   "source": [
    "response = requests.post(\n",
    "    url=\"https://bankaccountdata.gocardless.com/api/v2/requisitions/\", \n",
    "    headers={\n",
    "        \"accept\": \"application/json\",\n",
    "        \"Content-Type\": \"application/json\",\n",
    "        \"Authorization\": f\"Bearer {ACCESS_TOKEN}\"  # <-- Sostituisci con il token reale\n",
    "    }, \n",
    "    json={\n",
    "        \"redirect\": \"http://www.yourwebpage.com\",\n",
    "        \"institution_id\": my_bank['id'],\n",
    "        \"reference\": \"111\",\n",
    "        \"user_language\": \"IT\"\n",
    "    }\n",
    ")\n",
    "\n",
    "# Verifica la risposta\n",
    "print(response.status_code)\n",
    "print(response.json())\n"
   ]
  },
  {
   "cell_type": "code",
   "execution_count": null,
   "id": "c0a6308b",
   "metadata": {},
   "outputs": [],
   "source": [
    "requitision = response.json()"
   ]
  },
  {
   "cell_type": "code",
   "execution_count": null,
   "id": "26eff7c5",
   "metadata": {},
   "outputs": [],
   "source": [
    "response = requests.get(\n",
    "    url=f\"https://bankaccountdata.gocardless.com/api/v2/requisitions/{requitision['id']}/\",\n",
    "    headers={\n",
    "        \"accept\": \"application/json\",\n",
    "        \"Authorization\": f\"Bearer {ACCESS_TOKEN}\"  # <-- sostituisci con il token reale\n",
    "    }\n",
    ")\n",
    "# Verifica la risposta\n",
    "print(response.status_code)\n",
    "print(response.json())\n"
   ]
  },
  {
   "cell_type": "code",
   "execution_count": null,
   "id": "f8764fe6",
   "metadata": {},
   "outputs": [],
   "source": [
    "user_profile = response.json()"
   ]
  },
  {
   "cell_type": "code",
   "execution_count": null,
   "id": "4b966c4c",
   "metadata": {},
   "outputs": [],
   "source": [
    "response = requests.get(\n",
    "    url=f\"https://bankaccountdata.gocardless.com/api/v2/accounts/{user_profile['accounts'][0]}/balances/\" ,\n",
    "    headers={\n",
    "        \"accept\": \"application/json\",\n",
    "        \"Authorization\": f\"Bearer {ACCESS_TOKEN}\"  # <-- sostituisci con il token reale\n",
    "    }\n",
    ")\n",
    "# Verifica la risposta\n",
    "print(response.status_code)\n",
    "print(response.json())"
   ]
  },
  {
   "cell_type": "code",
   "execution_count": null,
   "id": "0820186d",
   "metadata": {},
   "outputs": [],
   "source": [
    "balance = response.json()"
   ]
  },
  {
   "cell_type": "code",
   "execution_count": null,
   "id": "0796619b",
   "metadata": {},
   "outputs": [],
   "source": [
    "balance"
   ]
  },
  {
   "cell_type": "code",
   "execution_count": null,
   "id": "7cc51a93",
   "metadata": {},
   "outputs": [],
   "source": []
  },
  {
   "cell_type": "code",
   "execution_count": null,
   "id": "e8dbb758",
   "metadata": {},
   "outputs": [],
   "source": []
  },
  {
   "cell_type": "code",
   "execution_count": null,
   "id": "68a5f1af",
   "metadata": {},
   "outputs": [],
   "source": []
  }
 ],
 "metadata": {
  "kernelspec": {
   "display_name": ".env",
   "language": "python",
   "name": "python3"
  },
  "language_info": {
   "codemirror_mode": {
    "name": "ipython",
    "version": 3
   },
   "file_extension": ".py",
   "mimetype": "text/x-python",
   "name": "python",
   "nbconvert_exporter": "python",
   "pygments_lexer": "ipython3",
   "version": "3.13.5"
  }
 },
 "nbformat": 4,
 "nbformat_minor": 5
}