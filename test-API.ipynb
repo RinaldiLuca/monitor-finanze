{
 "cells": [
  {
   "cell_type": "code",
   "execution_count": null,
   "id": "0",
   "metadata": {},
   "outputs": [],
   "source": [
    "import requests\n",
    "import json"
   ]
  },
  {
   "cell_type": "code",
   "execution_count": null,
   "id": "1",
   "metadata": {},
   "outputs": [],
   "source": [
    "url = \"https://bankaccountdata.gocardless.com/api/v2/token/new/\"\n",
    "headers = {\n",
    "    \"accept\": \"application/json\",\n",
    "    \"Content-Type\": \"application/json\"\n",
    "}\n",
    "with open('keys.json', 'rb') as f:\n",
    "    data = json.load(f)"
   ]
  },
  {
   "cell_type": "code",
   "execution_count": null,
   "id": "2",
   "metadata": {},
   "outputs": [],
   "source": [
    "data"
   ]
  },
  {
   "cell_type": "code",
   "execution_count": null,
   "id": "3",
   "metadata": {},
   "outputs": [],
   "source": [
    "response = requests.post(url, headers=headers, data=json.dumps(data))\n",
    "\n",
    "# Stampa il risultato\n",
    "print(response.status_code)\n",
    "print(response.json())  # mostra il token se la richiesta ha successo"
   ]
  },
  {
   "cell_type": "code",
   "execution_count": null,
   "id": "4",
   "metadata": {},
   "outputs": [],
   "source": [
    "ACCESS_TOKEN = response.json()[\"access\"]"
   ]
  },
  {
   "cell_type": "code",
   "execution_count": null,
   "id": "5",
   "metadata": {},
   "outputs": [],
   "source": [
    "url = \"https://bankaccountdata.gocardless.com/api/v2/institutions/\"\n",
    "headers = {\n",
    "    \"accept\": \"application/json\",\n",
    "    \"Authorization\": f\"Bearer {ACCESS_TOKEN}\"  # <-- sostituisci con il token reale\n",
    "}\n",
    "params = {\n",
    "    \"country\": \"it\"\n",
    "}\n",
    "\n",
    "response = requests.get(url, headers=headers, params=params)\n",
    "\n",
    "# Stampa la risposta\n",
    "print(response.status_code)\n",
    "print(response.json())  # mostra la lista delle istituzioni"
   ]
  },
  {
   "cell_type": "code",
   "execution_count": null,
   "id": "6",
   "metadata": {},
   "outputs": [],
   "source": [
    "institutions = response.json()"
   ]
  },
  {
   "cell_type": "code",
   "execution_count": null,
   "id": "7",
   "metadata": {},
   "outputs": [],
   "source": [
    "for inst in institutions:\n",
    "    print(inst['name'])"
   ]
  },
  {
   "cell_type": "code",
   "execution_count": null,
   "id": "8",
   "metadata": {},
   "outputs": [],
   "source": [
    "my_bank = [ii for ii in institutions if ii['name'] == 'CREDEM Retail'][0]"
   ]
  },
  {
   "cell_type": "code",
   "execution_count": null,
   "id": "9",
   "metadata": {},
   "outputs": [],
   "source": [
    "my_bank"
   ]
  },
  {
   "cell_type": "code",
   "execution_count": null,
   "id": "10",
   "metadata": {},
   "outputs": [],
   "source": [
    "response = requests.post(\n",
    "    url=\"https://bankaccountdata.gocardless.com/api/v2/requisitions/\", \n",
    "    headers={\n",
    "        \"accept\": \"application/json\",\n",
    "        \"Content-Type\": \"application/json\",\n",
    "        \"Authorization\": f\"Bearer {ACCESS_TOKEN}\"  # <-- Sostituisci con il token reale\n",
    "    }, \n",
    "    json={\n",
    "        \"redirect\": \"http://www.yourwebpage.com\",\n",
    "        \"institution_id\": my_bank['id'],\n",
    "        \"reference\": \"111\",\n",
    "        \"user_language\": \"IT\"\n",
    "    }\n",
    ")\n",
    "\n",
    "# Verifica la risposta\n",
    "print(response.status_code)\n",
    "print(response.json())\n"
   ]
  },
  {
   "cell_type": "code",
   "execution_count": null,
   "id": "11",
   "metadata": {},
   "outputs": [],
   "source": [
    "requitision = response.json()"
   ]
  },
  {
   "cell_type": "code",
   "execution_count": null,
   "id": "12",
   "metadata": {},
   "outputs": [],
   "source": [
    "response = requests.get(\n",
    "    url=\"https://bankaccountdata.gocardless.com/api/v2/requisitions/\",\n",
    "    headers={\n",
    "        \"accept\": \"application/json\",\n",
    "        \"Authorization\": f\"Bearer {ACCESS_TOKEN}\"\n",
    "    }\n",
    ")\n",
    "\n",
    "data = response.json()"
   ]
  },
  {
   "cell_type": "code",
   "execution_count": null,
   "id": "13",
   "metadata": {},
   "outputs": [],
   "source": [
    "requitision = data['results'][0]"
   ]
  },
  {
   "cell_type": "code",
   "execution_count": null,
   "id": "14",
   "metadata": {},
   "outputs": [],
   "source": [
    "requitision"
   ]
  },
  {
   "cell_type": "code",
   "execution_count": null,
   "id": "15",
   "metadata": {},
   "outputs": [],
   "source": [
    "response = requests.get(\n",
    "    url=f\"https://bankaccountdata.gocardless.com/api/v2/requisitions/{requitision['id']}/\",\n",
    "    headers={\n",
    "        \"accept\": \"application/json\",\n",
    "        \"Authorization\": f\"Bearer {ACCESS_TOKEN}\"  # <-- sostituisci con il token reale\n",
    "    }\n",
    ")\n",
    "# Verifica la risposta\n",
    "print(response.status_code)\n",
    "print(response.json())\n"
   ]
  },
  {
   "cell_type": "code",
   "execution_count": null,
   "id": "16",
   "metadata": {},
   "outputs": [],
   "source": [
    "user_profile = response.json()"
   ]
  },
  {
   "cell_type": "code",
   "execution_count": null,
   "id": "17",
   "metadata": {},
   "outputs": [],
   "source": [
    "response = requests.get(\n",
    "    url=f\"https://bankaccountdata.gocardless.com/api/v2/accounts/{user_profile['accounts'][0]}/transactions/\" ,\n",
    "    headers={\n",
    "        \"accept\": \"application/json\",\n",
    "        \"Authorization\": f\"Bearer {ACCESS_TOKEN}\"  # <-- sostituisci con il token reale\n",
    "    }\n",
    ")\n",
    "# Verifica la risposta\n",
    "print(response.status_code)\n",
    "print(response.json())"
   ]
  },
  {
   "cell_type": "code",
   "execution_count": null,
   "id": "18",
   "metadata": {},
   "outputs": [],
   "source": [
    "transactions = response.json()"
   ]
  },
  {
   "cell_type": "code",
   "execution_count": null,
   "id": "19",
   "metadata": {},
   "outputs": [],
   "source": [
    "transactions[\"transactions\"][\"booked\"][45]"
   ]
  },
  {
   "cell_type": "code",
   "execution_count": null,
   "id": "20",
   "metadata": {},
   "outputs": [],
   "source": [
    "for ii in transactions[\"transactions\"][\"booked\"]:\n",
    "    print(ii['internalTransactionId'], \" --- \", ii['transactionId'])"
   ]
  },
  {
   "cell_type": "code",
   "execution_count": null,
   "id": "21",
   "metadata": {},
   "outputs": [],
   "source": [
    "%load_ext autoreload"
   ]
  },
  {
   "cell_type": "code",
   "execution_count": null,
   "id": "22",
   "metadata": {},
   "outputs": [],
   "source": [
    "%autoreload 2\n",
    "from data_models.transaction import ApiTransactionRaw, ConsolidatedTransaction"
   ]
  },
  {
   "cell_type": "code",
   "execution_count": null,
   "id": "23",
   "metadata": {},
   "outputs": [],
   "source": [
    "raw_dict = transactions[\"transactions\"][\"booked\"][45]\n",
    "raw_dict"
   ]
  },
  {
   "cell_type": "code",
   "execution_count": null,
   "id": "24",
   "metadata": {},
   "outputs": [],
   "source": [
    "raw_dict = {'transactionId': '001-010-010-00000-000848324-00000$900000090-20250619-0005020-001',\n",
    " 'bookingDate': '2025-06-19',\n",
    " 'valueDate': '2025-06-17',\n",
    " 'transactionAmount': {'amount': '-6.00', 'currency': 'EUR'},\n",
    " 'remittanceInformationUnstructured': 'PAGOBANCOMAT 17/06/25,ORE 22:02,TESS.802574245 GOUST DI VALOCATERIN..                                                                                 ',\n",
    " 'internalTransactionId': '9de881431c7fec6de689ffdd0b4e66fd'}"
   ]
  },
  {
   "cell_type": "code",
   "execution_count": null,
   "id": "25",
   "metadata": {},
   "outputs": [],
   "source": [
    "tx = ApiTransactionRaw(\n",
    "    booking_dt=raw_dict['bookingDate'],\n",
    "    value_dt=raw_dict['valueDate'],\n",
    "    amount=raw_dict['transactionAmount']['amount'],\n",
    "    description=raw_dict['remittanceInformationUnstructured'],\n",
    "    external_id=raw_dict['transactionId'],\n",
    ")"
   ]
  },
  {
   "cell_type": "code",
   "execution_count": null,
   "id": "26",
   "metadata": {},
   "outputs": [],
   "source": [
    "tx"
   ]
  },
  {
   "cell_type": "code",
   "execution_count": null,
   "id": "27",
   "metadata": {},
   "outputs": [],
   "source": [
    "cons_tx = ConsolidatedTransaction.model_validate(tx.model_dump())"
   ]
  },
  {
   "cell_type": "code",
   "execution_count": null,
   "id": "28",
   "metadata": {},
   "outputs": [],
   "source": [
    "cons_tx.hash_key"
   ]
  },
  {
   "cell_type": "code",
   "execution_count": null,
   "id": "29",
   "metadata": {},
   "outputs": [],
   "source": [
    "ConsolidatedTransaction.from_raw(tx)"
   ]
  },
  {
   "cell_type": "code",
   "execution_count": null,
   "id": "30",
   "metadata": {},
   "outputs": [],
   "source": []
  }
 ],
 "metadata": {
  "kernelspec": {
   "display_name": ".env",
   "language": "python",
   "name": "python3"
  },
  "language_info": {
   "codemirror_mode": {
    "name": "ipython",
    "version": 3
   },
   "file_extension": ".py",
   "mimetype": "text/x-python",
   "name": "python",
   "nbconvert_exporter": "python",
   "pygments_lexer": "ipython3",
   "version": "3.13.5"
  }
 },
 "nbformat": 4,
 "nbformat_minor": 5
}
